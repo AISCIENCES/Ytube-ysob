{
 "cells": [
  {
   "cell_type": "code",
   "execution_count": 17,
   "id": "2ef4b3ad",
   "metadata": {},
   "outputs": [],
   "source": [
    "!pip install -q cvlib"
   ]
  },
  {
   "cell_type": "markdown",
   "id": "a9ca4896",
   "metadata": {},
   "source": [
    "Imports"
   ]
  },
  {
   "cell_type": "code",
   "execution_count": 138,
   "id": "2f592f6f",
   "metadata": {},
   "outputs": [],
   "source": [
    "import cv2\n",
    "import cvlib as cv\n",
    "from cvlib.object_detection import draw_bbox\n",
    "from IPython.display import Image, display"
   ]
  },
  {
   "cell_type": "code",
   "execution_count": 183,
   "id": "52cc47f3",
   "metadata": {},
   "outputs": [],
   "source": [
    "FILE_NAME = \"3.jpg\"\n",
    "OUT_FILE_NAME = \"image-out.jpeg\""
   ]
  },
  {
   "cell_type": "code",
   "execution_count": 184,
   "id": "26c1e25f",
   "metadata": {},
   "outputs": [
    {
     "data": {
      "image/jpeg": "[encoded data removed]",
      "text/plain": [
       "<IPython.core.display.Image object>"
      ]
     },
     "metadata": {
      "image/jpeg": {
       "height": 300,
       "width": 700
      }
     },
     "output_type": "display_data"
    }
   ],
   "source": [
    "display(Image(FILE_NAME, width = 700, height = 300))\n"
   ]
  },
  {
   "cell_type": "code",
   "execution_count": 185,
   "id": "d121bc73",
   "metadata": {},
   "outputs": [
    {
     "name": "stdout",
     "output_type": "stream",
     "text": [
      "Detected object: cat with confidence level of 0.5451081395149231n\n",
      "Detected object: dog with confidence level of 0.367876261472702n\n"
     ]
    }
   ],
   "source": [
    "img = cv2.imread(FILE_NAME)\n",
    "bbox, label, conf = cv.detect_common_objects(img, confidence=0.1, model=\"yolov3\")\n",
    "for l, c in zip(label, conf):\n",
    "    print(f\"Detected object: {l} with confidence level of {c}n\")"
   ]
  },
  {
   "cell_type": "code",
   "execution_count": 186,
   "id": "3d03a216",
   "metadata": {},
   "outputs": [],
   "source": [
    "output_image = draw_bbox(img, bbox, label, conf)"
   ]
  },
  {
   "cell_type": "code",
   "execution_count": 187,
   "id": "f58d0997",
   "metadata": {},
   "outputs": [
    {
     "data": {
      "text/plain": [
       "True"
      ]
     },
     "execution_count": 187,
     "metadata": {},
     "output_type": "execute_result"
    }
   ],
   "source": [
    "cv2.imwrite(OUT_FILE_NAME, output_image)\n"
   ]
  },
  {
   "cell_type": "code",
   "execution_count": 188,
   "id": "2b6272f7",
   "metadata": {},
   "outputs": [
    {
     "data": {
      "image/jpeg": "[encoded data removed]",
      "text/plain": [
       "<IPython.core.display.Image object>"
      ]
     },
     "metadata": {},
     "output_type": "display_data"
    }
   ],
   "source": [
    "display(Image(OUT_FILE_NAME))\n"
   ]
  },
  {
   "cell_type": "code",
   "execution_count": null,
   "id": "f3f29b4e",
   "metadata": {},
   "outputs": [],
   "source": []
  },
  {
   "cell_type": "code",
   "execution_count": null,
   "id": "31a43df2",
   "metadata": {},
   "outputs": [],
   "source": []
  }
 ],
 "metadata": {
  "kernelspec": {
   "display_name": "Python 3 (ipykernel)",
   "language": "python",
   "name": "python3"
  },
  "language_info": {
   "codemirror_mode": {
    "name": "ipython",
    "version": 3
   },
   "file_extension": ".py",
   "mimetype": "text/x-python",
   "name": "python",
   "nbconvert_exporter": "python",
   "pygments_lexer": "ipython3",
   "version": "3.9.12"
  }
 },
 "nbformat": 4,
 "nbformat_minor": 5
}
